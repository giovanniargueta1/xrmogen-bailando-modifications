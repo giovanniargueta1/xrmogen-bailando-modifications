{
  "nbformat": 4,
  "nbformat_minor": 0,
  "metadata": {
    "colab": {
      "provenance": []
    },
    "kernelspec": {
      "name": "python3",
      "display_name": "Python 3"
    },
    "language_info": {
      "name": "python"
    }
  },
  "cells": [
    {
      "cell_type": "code",
      "execution_count": null,
      "metadata": {
        "id": "Ypt4Itk3a6Ls"
      },
      "outputs": [],
      "source": [
        "from google.colab import drive\n",
        "drive.mount('/content/drive')\n",
        "! wget https://repo.anaconda.com/miniconda/Miniconda3-py37_4.8.2-Linux-x86_64.sh\n",
        "! chmod +x Miniconda3-py37_4.8.2-Linux-x86_64.sh\n",
        "! bash ./Miniconda3-py37_4.8.2-Linux-x86_64.sh -b -f -p /usr/local\n",
        "\n",
        "!conda create -y --name xrmogen python=3.8"
      ]
    },
    {
      "cell_type": "code",
      "source": [
        "import os\n",
        "\n",
        "# Add Conda environment's bin directory to the PATH\n",
        "os.environ[\"PATH\"] = \"/usr/local/envs/xrmogen/bin:\" + os.environ[\"PATH\"]\n",
        "\n",
        "!which python\n",
        "!git clone https://github.com/openxrlab/xrmogen.git /content/drive/MyDrive/workspace/xrmogen\n",
        "!git clone https://github.com/open-mmlab/mmhuman3d.git /content/drive/MyDrive/workspace/mmhuman3d"
      ],
      "metadata": {
        "id": "7yl7InvUbCXn"
      },
      "execution_count": null,
      "outputs": []
    },
    {
      "cell_type": "code",
      "source": [
        "#xrmogen requirements\n",
        "!conda install -n xrmogen ffmpeg -y\n",
        "!conda install -n xrmogen pytorch==1.7.1 torchvision==0.8.2 torchaudio==0.7.2 cudatoolkit=10.1 -c pytorch\n",
        "!conda run -n xrmogen pip install \"imagio==2.15.0\"\n",
        "!conda run -n xrmogen pip install Pillow\n",
        "\n",
        "#mmhuman3d requirements (ignore pickle)\n",
        "\n",
        "!conda install -n xrmogen astropy -y\n",
        "!conda run -n xrmogen pip install \"cdflib==0.3.20\"\n",
        "\n",
        "!conda run -n xrmogen pip install chumpy\n",
        "!conda run -n xrmogen pip install colormap\n",
        "!conda run -n xrmogen pip install easydev\n",
        "!conda run -n xrmogen pip install einops\n",
        "!conda run -n xrmogen pip install h5py\n",
        "!conda run -n xrmogen pip install matplotlib\n",
        "!conda run -n xrmogen pip install \"numpy==1.23.5\"\n",
        "!conda run -n xrmogen pip install opencv-python\n",
        "!conda run -n xrmogen pip install \"pandas==1.5.3\"\n",
        "!conda run -n xrmogen pip install plyfile\n",
        "!conda run -n xrmogen pip install scikit-image\n",
        "!conda run -n xrmogen pip install scipy\n",
        "!conda run -n xrmogen pip install smplx\n",
        "!conda run -n xrmogen pip install tqdm\n",
        "!conda run -n xrmogen pip install trimesh\n",
        "!conda run -n xrmogen pip install vedo\n",
        "!conda run -n xrmogen pip install \"mmcv==1.6.1\"\n",
        "!conda run -n xrmogen pip install \"torch==1.7.1\"\n",
        "!conda run -n xrmogen pip install torchvision\n",
        "\n",
        "\n",
        "\n",
        "!conda run -n xrmogen conda list\n",
        "!conda run -n xrmogen pip list"
      ],
      "metadata": {
        "id": "Le35n7hybJeR"
      },
      "execution_count": null,
      "outputs": []
    }
  ]
}