{
  "nbformat": 4,
  "nbformat_minor": 0,
  "metadata": {
    "colab": {
      "provenance": []
    },
    "kernelspec": {
      "name": "python3",
      "display_name": "Python 3"
    },
    "language_info": {
      "name": "python"
    }
  },
  "cells": [
    {
      "cell_type": "code",
      "execution_count": null,
      "metadata": {
        "id": "Ypt4Itk3a6Ls"
      },
      "outputs": [],
      "source": [
        "from google.colab import drive\n",
        "drive.mount('/content/drive')\n",
        "! wget https://repo.anaconda.com/miniconda/Miniconda3-py37_4.8.2-Linux-x86_64.sh\n",
        "! chmod +x Miniconda3-py37_4.8.2-Linux-x86_64.sh\n",
        "! bash ./Miniconda3-py37_4.8.2-Linux-x86_64.sh -b -f -p /usr/local\n",
        "\n",
        "!conda create -y --name xrmogen python=3.8"
      ]
    },
    {
      "cell_type": "code",
      "source": [
        "import os\n",
        "\n",
        "# Add Conda environment's bin directory to the PATH\n",
        "os.environ[\"PATH\"] = \"/usr/local/envs/xrmogen/bin:\" + os.environ[\"PATH\"]\n",
        "\n",
        "!which python\n",
        "!git clone https://github.com/openxrlab/xrmogen.git /content/drive/MyDrive/workspace/xrmogen\n",
        "!git clone https://github.com/open-mmlab/mmhuman3d.git /content/drive/MyDrive/workspace/mmhuman3d"
      ],
      "metadata": {
        "id": "7yl7InvUbCXn"
      },
      "execution_count": null,
      "outputs": []
    },
    {
      "cell_type": "code",
      "source": [
       #xrmogen requirements
!conda install -n xrmogen ffmpeg -y
#ignore the line below if you are relying on Colab GPU, find compatible version of pytorch with CUDA
!conda install -n xrmogen pytorch==1.7.1 torchvision==0.8.2 torchaudio==0.7.2 cudatoolkit=10.1 -c pytorch
!conda run -n xrmogen pip install "imagio==2.15.0"
!conda run -n xrmogen pip install Pillow

#mmhuman3d requirements (ignore pickle)

!conda install -n xrmogen astropy -y
!conda run -n xrmogen pip install "cdflib==0.3.20"

!conda run -n xrmogen pip install chumpy
!conda run -n xrmogen pip install colormap
!conda run -n xrmogen pip install easydev
!conda run -n xrmogen pip install einops
!conda run -n xrmogen pip install h5py
!conda run -n xrmogen pip install matplotlib
!conda run -n xrmogen pip install "numpy==1.23.5"
!conda run -n xrmogen pip install opencv-python
!conda run -n xrmogen pip install "pandas==1.5.3"
!conda run -n xrmogen pip install plyfile
!conda run -n xrmogen pip install scikit-image
!conda run -n xrmogen pip install scipy
!conda run -n xrmogen pip install smplx
!conda run -n xrmogen pip install tqdm
!conda run -n xrmogen pip install trimesh
!conda run -n xrmogen pip install vedo
!conda run -n xrmogen pip install "mmcv==1.6.1"
!conda run -n xrmogen pip install "torch==1.7.1"
!conda run -n xrmogen pip install torchvision



!conda run -n xrmogen conda list
!conda run -n xrmogen pip list 
      ],
      "metadata": {
        "id": "Le35n7hybJeR"
      },
      "execution_count": null,
      "outputs": []
    }
  ]
}
